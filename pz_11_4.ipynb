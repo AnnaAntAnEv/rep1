{
  "nbformat": 4,
  "nbformat_minor": 0,
  "metadata": {
    "colab": {
      "provenance": [],
      "authorship_tag": "ABX9TyPfFeKFv7m+ik0Gt34s0gv5",
      "include_colab_link": true
    },
    "kernelspec": {
      "name": "python3",
      "display_name": "Python 3"
    },
    "language_info": {
      "name": "python"
    }
  },
  "cells": [
    {
      "cell_type": "markdown",
      "metadata": {
        "id": "view-in-github",
        "colab_type": "text"
      },
      "source": [
        "<a href=\"https://colab.research.google.com/github/AnnaAntAnEv/rep1/blob/main/pz_11_4.ipynb\" target=\"_parent\"><img src=\"https://colab.research.google.com/assets/colab-badge.svg\" alt=\"Open In Colab\"/></a>"
      ]
    },
    {
      "cell_type": "code",
      "source": [
        "import pandas as pd\n",
        "from sklearn.model_selection import train_test_split\n",
        "from sklearn.linear_model import LinearRegression\n",
        "from sklearn.metrics import mean_squared_error\n",
        "import numpy as np\n",
        "\n",
        "def car_price_prediction(filename):\n",
        "    data = pd.read_csv(filename)\n",
        "\n",
        "    predictors = ['Year', 'Engine HP', 'Engine Cylinders', 'highway MPG', 'city mpg', 'Popularity']\n",
        "    target_variable = 'MSRP'\n",
        "\n",
        "    data[predictors] = data[predictors].fillna(data[predictors].mean())\n",
        "\n",
        "    X = data[predictors]\n",
        "    y = data[target_variable]\n",
        "    X_train, X_test, y_train, y_test = train_test_split(X, y, test_size=0.25, random_state=42)\n",
        "\n",
        "    model = LinearRegression()\n",
        "    model.fit(X_train, y_train)\n",
        "    predictions = model.predict(X_test)\n",
        "\n",
        "    rmse_lr = np.sqrt(mean_squared_error(y_test, predictions))\n",
        "\n",
        "    mean_target = y_train.mean()\n",
        "    dumb_predictions = np.full(y_test.shape, mean_target)\n",
        "    rmse_dumb = np.sqrt(mean_squared_error(y_test, dumb_predictions))\n",
        "\n",
        "    print(f\"RMSE линейной регрессии: {rmse_lr}\")\n",
        "    print(f\"RMSE 'глупой модели': {rmse_dumb}\")\n",
        "    print(f\"Разница между RMSE: {rmse_lr - rmse_dumb}\")"
      ],
      "metadata": {
        "id": "F5ShX0RVoe-f"
      },
      "execution_count": null,
      "outputs": []
    }
  ]
}