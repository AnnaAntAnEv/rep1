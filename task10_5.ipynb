{
  "nbformat": 4,
  "nbformat_minor": 0,
  "metadata": {
    "colab": {
      "provenance": [],
      "authorship_tag": "ABX9TyPR2I9Gr+tYW/koqDW/rhrf",
      "include_colab_link": true
    },
    "kernelspec": {
      "name": "python3",
      "display_name": "Python 3"
    },
    "language_info": {
      "name": "python"
    }
  },
  "cells": [
    {
      "cell_type": "markdown",
      "metadata": {
        "id": "view-in-github",
        "colab_type": "text"
      },
      "source": [
        "<a href=\"https://colab.research.google.com/github/AnnaAntAnEv/rep1/blob/main/task10_5.ipynb\" target=\"_parent\"><img src=\"https://colab.research.google.com/assets/colab-badge.svg\" alt=\"Open In Colab\"/></a>"
      ]
    },
    {
      "cell_type": "code",
      "source": [
        "import pandas as pd\n",
        "from scipy.stats import ttest_ind\n",
        "\n",
        "def website_analyse(file_path):\n",
        "    data = pd.read_csv(file_path)\n",
        "\n",
        "    avg_pages = data['Просмотренные страницы'].mean()\n",
        "    print(f\"1) Среднее количество просмотренных страниц: {avg_pages:.2f}\")\n",
        "\n",
        "    std_time = data['Время на сайте (сек)'].std()\n",
        "    print(f\"2) Стандартное отклонение: {std_time:.2f}\")\n",
        "\n",
        "    mean_time = data['Время на сайте (сек)'].mean()\n",
        "    cv = std_time / mean_time\n",
        "\n",
        "    if cv > 0.25:\n",
        "        variability = \"Высокая вариабельность\"\n",
        "    elif cv > 0.1:\n",
        "        variability = \"Умеренная вариабельность\"\n",
        "    else:\n",
        "        variability = \"Слабая вариабельность\"\n",
        "\n",
        "    print(f\"3) {variability}: {cv:.2f}\")\n",
        "\n",
        "    mobile_visits = data[data['Тип устройства'] == 'Мобильное']['Просмотренные страницы']\n",
        "    desktop_visits = data[data['Тип устройства'] == 'Десктоп']['Просмотренные страницы']\n",
        "\n",
        "    t_stat, p_value = ttest_ind(mobile_visits, desktop_visits)\n",
        "\n",
        "    if p_value > 0.05:\n",
        "        significance = \"Есть статистически значимая разница в количестве страниц\"\n",
        "    else:\n",
        "        significance = \"Нет статистически значимой разницы\"\n",
        "\n",
        "    print(f\"4) {significance}: {p_value:.4f}\")\n",
        "\n",
        "website_analyse('website_visits_december_2024.csv')"
      ],
      "metadata": {
        "colab": {
          "base_uri": "https://localhost:8080/"
        },
        "id": "4kgSBLpCg9HI",
        "outputId": "8c7e422c-8e65-4765-f103-4c01c902e413"
      },
      "execution_count": 17,
      "outputs": [
        {
          "output_type": "stream",
          "name": "stdout",
          "text": [
            "1) Среднее количество просмотренных страниц: 17.49\n",
            "2) Стандартное отклонение: 1442.80\n",
            "3) Высокая вариабельность: 0.69\n",
            "4) Нет статистически значимой разницы: 0.0001\n"
          ]
        }
      ]
    }
  ]
}