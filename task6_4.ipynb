{
  "nbformat": 4,
  "nbformat_minor": 0,
  "metadata": {
    "colab": {
      "provenance": [],
      "authorship_tag": "ABX9TyOMHRkU5oxTvvJozQIwRyZH",
      "include_colab_link": true
    },
    "kernelspec": {
      "name": "python3",
      "display_name": "Python 3"
    },
    "language_info": {
      "name": "python"
    }
  },
  "cells": [
    {
      "cell_type": "markdown",
      "metadata": {
        "id": "view-in-github",
        "colab_type": "text"
      },
      "source": [
        "<a href=\"https://colab.research.google.com/github/AnnaAntAnEv/rep1/blob/main/task6_4.ipynb\" target=\"_parent\"><img src=\"https://colab.research.google.com/assets/colab-badge.svg\" alt=\"Open In Colab\"/></a>"
      ]
    },
    {
      "cell_type": "code",
      "source": [
        "def read_file_last(file_name, n):\n",
        "    lines = []\n",
        "    with open(file_name, 'r') as file:\n",
        "        for line in file:\n",
        "            lines.append(line.strip())\n",
        "    return lines"
      ],
      "metadata": {
        "id": "LbZoUchPbkTy"
      },
      "execution_count": 1,
      "outputs": []
    }
  ]
}